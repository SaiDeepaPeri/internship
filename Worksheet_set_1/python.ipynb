{
  "nbformat": 4,
  "nbformat_minor": 0,
  "metadata": {
    "colab": {
      "provenance": []
    },
    "kernelspec": {
      "name": "python3",
      "display_name": "Python 3"
    },
    "language_info": {
      "name": "python"
    }
  },
  "cells": [
    {
      "cell_type": "code",
      "execution_count": 4,
      "metadata": {
        "id": "eZweb2Voz00l",
        "colab": {
          "base_uri": "https://localhost:8080/"
        },
        "outputId": "c61b4b10-61f6-4ef4-c942-e907b9b670cd"
      },
      "outputs": [
        {
          "output_type": "stream",
          "name": "stdout",
          "text": [
            "The factorial of 7 is 5040\n"
          ]
        }
      ],
      "source": [
        "# 11. Write a python program to find the factorial of a number.\n",
        "\n",
        "def factorial(x):\n",
        "    if x == 1:\n",
        "        return 1\n",
        "    else:\n",
        "        return (x * factorial(x-1))\n",
        "\n",
        "\n",
        "num = 7\n",
        "\n",
        "result = factorial(num)\n",
        "print(\"The factorial of\", num, \"is\", result)"
      ]
    },
    {
      "cell_type": "code",
      "source": [
        "# 12.Write a python program to find whether a number is prime or composite.\n",
        "n = 5\n",
        "\n",
        "\n",
        "if n > 1:\n",
        "\tfor i in range(2, int(n/2)+1):\n",
        "\t\tif (n % i) == 0:\n",
        "\t\t\tprint(num, \"is not a prime number\")\n",
        "\t\tbreak\n",
        "\telse:\n",
        "\t\tprint(n, \"is a prime number\")\n",
        "else:\n",
        "\tprint(n, \"is not a prime number\")"
      ],
      "metadata": {
        "id": "XVbgIgd4x6ML"
      },
      "execution_count": 5,
      "outputs": []
    },
    {
      "cell_type": "code",
      "source": [
        "# 13. Write a python program to check whether a given string is palindrome or not.\n",
        "def isPalindrome(s):\n",
        "    return s == s[::-1]\n",
        "  \n",
        "  \n",
        "s = \"malayalam\"\n",
        "ans = isPalindrome(s)\n",
        "  \n",
        "if ans:\n",
        "    print(\"Yes\")\n",
        "else:\n",
        "    print(\"No\")"
      ],
      "metadata": {
        "colab": {
          "base_uri": "https://localhost:8080/"
        },
        "id": "40m89-yu2YGJ",
        "outputId": "ab12d586-57d7-49f2-9e59-8024d8417dd3"
      },
      "execution_count": 6,
      "outputs": [
        {
          "output_type": "stream",
          "name": "stdout",
          "text": [
            "Yes\n"
          ]
        }
      ]
    },
    {
      "cell_type": "code",
      "source": [
        "# 14. Write a Python program to get the third side of right-angled triangle from two given sides.\n",
        "import math\n",
        "a = float(input(\"Give side a: \"))\n",
        "b = float(input(\"Give side b: \"))\n",
        "c = math.sqrt(a ** 2 + b ** 2)\n",
        "print(f\"The length of the hypotenuse c is {c}\")"
      ],
      "metadata": {
        "colab": {
          "base_uri": "https://localhost:8080/"
        },
        "id": "F1XgUtHm3h3J",
        "outputId": "fabb4582-c9a1-4c08-f9d1-6cc9f805e6e5"
      },
      "execution_count": 7,
      "outputs": [
        {
          "output_type": "stream",
          "name": "stdout",
          "text": [
            "Give side a: 1\n",
            "Give side b: 2\n",
            "The length of the hypotenuse c is 2.23606797749979\n"
          ]
        }
      ]
    },
    {
      "cell_type": "code",
      "source": [
        "# 15. Write a python program to print the frequency of each of the characters present in a given string.\n",
        "test_str = \"SaiDeepaBhavaniPeri\"\n",
        " \n",
        "all_freq = {}\n",
        " \n",
        "for i in test_str:\n",
        "    if i in all_freq:\n",
        "        all_freq[i] += 1\n",
        "    else:\n",
        "        all_freq[i] = 1\n",
        " \n",
        "print(\"Count of all characters in SaiDeepaBhavaniPeri is :\\n \"\n",
        "      + str(all_freq))"
      ],
      "metadata": {
        "colab": {
          "base_uri": "https://localhost:8080/"
        },
        "id": "cvXt1AnL33tb",
        "outputId": "be919e42-0781-4a76-8a99-cc9338cd3067"
      },
      "execution_count": 8,
      "outputs": [
        {
          "output_type": "stream",
          "name": "stdout",
          "text": [
            "Count of all characters in SaiDeepaBhavaniPeri is :\n",
            " {'S': 1, 'a': 4, 'i': 3, 'D': 1, 'e': 3, 'p': 1, 'B': 1, 'h': 1, 'v': 1, 'n': 1, 'P': 1, 'r': 1}\n"
          ]
        }
      ]
    }
  ]
}